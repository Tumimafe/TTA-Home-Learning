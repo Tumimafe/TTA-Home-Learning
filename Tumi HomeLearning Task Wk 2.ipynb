{
 "cells": [
  {
   "cell_type": "code",
   "execution_count": 10,
   "metadata": {},
   "outputs": [
    {
     "name": "stdout",
     "output_type": "stream",
     "text": [
      "My name is ju\n"
     ]
    }
   ],
   "source": [
    "user_input = input(\"What is your name? \")\n",
    "\n",
    "print(\"My name is\", user_input)"
   ]
  },
  {
   "cell_type": "code",
   "execution_count": 27,
   "metadata": {},
   "outputs": [
    {
     "name": "stdout",
     "output_type": "stream",
     "text": [
      "Your random number is: 7\n"
     ]
    }
   ],
   "source": [
    "import random\n",
    "value = random.randint(1, 10)\n",
    "print(\"Your random number is:\", value)"
   ]
  },
  {
   "cell_type": "code",
   "execution_count": 32,
   "metadata": {},
   "outputs": [
    {
     "name": "stdout",
     "output_type": "stream",
     "text": [
      "a is less than b\n",
      "Not sure if a is less than b\n"
     ]
    }
   ],
   "source": [
    "a = 1\n",
    "b = 2\n",
    "if a < b:\n",
    "    print(\"a is less than b\")\n",
    "print(\"Not sure if a is less than b\")\n"
   ]
  }
 ],
 "metadata": {
  "interpreter": {
   "hash": "511e55002720f220089970bd100a06c7142c726d80b36b200f48bd2ae9a9bd2f"
  },
  "kernelspec": {
   "display_name": "Python 3.10.2 64-bit",
   "language": "python",
   "name": "python3"
  },
  "language_info": {
   "codemirror_mode": {
    "name": "ipython",
    "version": 3
   },
   "file_extension": ".py",
   "mimetype": "text/x-python",
   "name": "python",
   "nbconvert_exporter": "python",
   "pygments_lexer": "ipython3",
   "version": "3.10.2"
  },
  "orig_nbformat": 4
 },
 "nbformat": 4,
 "nbformat_minor": 2
}
