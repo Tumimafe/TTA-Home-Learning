{
 "cells": [
  {
   "cell_type": "code",
   "execution_count": null,
   "metadata": {},
   "outputs": [],
   "source": [
    "#Task 1"
   ]
  },
  {
   "cell_type": "code",
   "execution_count": 6,
   "metadata": {},
   "outputs": [
    {
     "name": "stdout",
     "output_type": "stream",
     "text": [
      "£ 2000\n",
      "£ 1800.0\n",
      "£ 1620.0\n",
      "£ 1458.0\n",
      "£ 1312.2\n",
      "£ 1180.98\n",
      "£ 1062.882\n"
     ]
    }
   ],
   "source": [
    "#Task 2\n",
    "value = 2000\n",
    "while value > 1000:\n",
    " print(\"£\",value)\n",
    " value = value * 0.9"
   ]
  },
  {
   "cell_type": "code",
   "execution_count": 7,
   "metadata": {},
   "outputs": [
    {
     "name": "stdout",
     "output_type": "stream",
     "text": [
      "The moto costs £2000.00\n",
      "The moto costs £1800.00\n",
      "The moto costs £1620.00\n",
      "The moto costs £1458.00\n",
      "The moto costs £1312.20\n",
      "The moto costs £1180.98\n",
      "The moto costs £1062.88\n"
     ]
    }
   ],
   "source": [
    "def depreciation_function(value, DepreciationPercent):\n",
    "    \n",
    "    while value > 1000:\n",
    "        print(f\"The moto costs £{value:.2f}\")\n",
    "        value*= ((100 - DepreciationPercent)/100)\n",
    "\n",
    "value ,  DepreciationPercent = 2000, 10\n",
    "\n",
    "depreciation_function(value, depreciationPercent)"
   ]
  },
  {
   "cell_type": "code",
   "execution_count": 1,
   "metadata": {},
   "outputs": [
    {
     "name": "stdout",
     "output_type": "stream",
     "text": [
      "15\n"
     ]
    }
   ],
   "source": [
    "#Task 3\n",
    "\n",
    "number_1 = int(input(\"Enter a number:\"))\n",
    "number_2 = int(input(\"Enter a second number:\"))\n",
    "sign = input(\"Enter the operator you wish to use(+, -, *, /, %):\")\n",
    "\n",
    "if sign == \"+\":\n",
    "    print(number_1 + number_2)\n",
    "elif sign == \"-\":\n",
    "    print(number_1 - number_2)\n",
    "elif sign == \"*\":\n",
    "    print (number_1 * number_2)\n",
    "elif sign == \"/\":\n",
    "    print(number_1 / number_2)\n",
    "elif sign == \"%\":\n",
    "    print(number_1 % number_2)\n",
    "else:\n",
    "    print(\"You did not choose an appropraite operator\")"
   ]
  }
 ],
 "metadata": {
  "interpreter": {
   "hash": "511e55002720f220089970bd100a06c7142c726d80b36b200f48bd2ae9a9bd2f"
  },
  "kernelspec": {
   "display_name": "Python 3.10.2 64-bit",
   "language": "python",
   "name": "python3"
  },
  "language_info": {
   "codemirror_mode": {
    "name": "ipython",
    "version": 3
   },
   "file_extension": ".py",
   "mimetype": "text/x-python",
   "name": "python",
   "nbconvert_exporter": "python",
   "pygments_lexer": "ipython3",
   "version": "3.10.2"
  },
  "orig_nbformat": 4
 },
 "nbformat": 4,
 "nbformat_minor": 2
}
