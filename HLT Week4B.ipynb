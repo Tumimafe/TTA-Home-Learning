{
 "cells": [
  {
   "cell_type": "code",
   "execution_count": 6,
   "metadata": {},
   "outputs": [],
   "source": [
    "import numpy as np"
   ]
  },
  {
   "cell_type": "code",
   "execution_count": 3,
   "metadata": {},
   "outputs": [
    {
     "name": "stdout",
     "output_type": "stream",
     "text": [
      "[0 1 2 3 4 5 6 7 8]\n"
     ]
    }
   ],
   "source": [
    "#1\n",
    "array=np.array([0,1,2,3,4,5,6,7,8,9])\n",
    "\n",
    "print(array[0:9])"
   ]
  },
  {
   "cell_type": "code",
   "execution_count": 4,
   "metadata": {},
   "outputs": [
    {
     "name": "stdout",
     "output_type": "stream",
     "text": [
      "[[ True  True  True]\n",
      " [ True  True  True]\n",
      " [ True  True  True]]\n"
     ]
    }
   ],
   "source": [
    "#2\n",
    "boo = np.ones((3,3), dtype=bool)\n",
    "print(boo)"
   ]
  },
  {
   "cell_type": "code",
   "execution_count": 53,
   "metadata": {},
   "outputs": [
    {
     "name": "stdout",
     "output_type": "stream",
     "text": [
      "odd numbers = [1 3 5 7 9]\n"
     ]
    }
   ],
   "source": [
    "#3\n",
    "a = np.array([1,2,3,4,5,6,7,8,9,10])\n",
    "a[a%2 == 1]\n",
    "print(\"odd numbers =\", a[a%2 == 1])"
   ]
  },
  {
   "cell_type": "code",
   "execution_count": 57,
   "metadata": {},
   "outputs": [
    {
     "name": "stdout",
     "output_type": "stream",
     "text": [
      "Odd numbers replaced with: -1\n"
     ]
    }
   ],
   "source": [
    "#4\n",
    "a = np.array([1,2,3,4,5,6,7,8,9,10])\n",
    "minus_one = a[a%2 == 1] = -1 \n",
    "print(\"Odd numbers replaced with:\",minus_one) "
   ]
  },
  {
   "cell_type": "code",
   "execution_count": 59,
   "metadata": {},
   "outputs": [
    {
     "name": "stdout",
     "output_type": "stream",
     "text": [
      "[[ 1  2  3  4  5  6  7  8]\n",
      " [ 9 10 11 12 13 14 15 16]]\n"
     ]
    }
   ],
   "source": [
    "#5\n",
    "array=np.array([1,2,3,4,5,6,7,8,9,10,11,12,13,14,15,16])\n",
    "newArray=array.reshape(2,8)\n",
    "print(newArray)"
   ]
  },
  {
   "cell_type": "code",
   "execution_count": 27,
   "metadata": {},
   "outputs": [
    {
     "name": "stdout",
     "output_type": "stream",
     "text": [
      "(array([1, 2, 3, 4]), array([5, 6, 7, 8]))\n",
      "(array([1, 2, 3, 4]), array([5, 6, 7, 8]))\n"
     ]
    }
   ],
   "source": [
    "#6\n",
    "array_a = np.array([1, 2, 3, 4])\n",
    "array_b = np.array([5, 6, 7, 8])\n",
    "ar_v = np.vstack((array_a, array_b))\n",
    "np.dot = (array_a, array_b)\n",
    "np.sum = (array_a, array_b)\n",
    "\n",
    "print(np.dot)\n",
    "print(np.sum)"
   ]
  },
  {
   "cell_type": "code",
   "execution_count": 28,
   "metadata": {},
   "outputs": [
    {
     "name": "stdout",
     "output_type": "stream",
     "text": [
      "#>array [1 1 1 2 2 2 3 3 3 1 2 3 1 2 3 1 2 3]\n"
     ]
    }
   ],
   "source": [
    "#Extension1\n",
    "\n",
    "n = 4\n",
    "arr = np.array([n-3, n-3, n-3, n-2, n-2, n-2, n-1, n-1, n-1,n-3, n-2, n-1,n-3, n-2, n-1,n-3, n-2, n-1])\n",
    "print (\"#>array\", (arr))"
   ]
  },
  {
   "cell_type": "code",
   "execution_count": 7,
   "metadata": {},
   "outputs": [
    {
     "name": "stdout",
     "output_type": "stream",
     "text": [
      "[1 2 3 4 5 6 7 8 9]\n"
     ]
    }
   ],
   "source": [
    "#Extension2\n",
    "\n",
    "a = np.array(list(range(1,6)))\n",
    "b = np.array(list(range(4,10)))\n",
    "c = np.union1d(a, b)\n",
    "print(c)"
   ]
  },
  {
   "cell_type": "code",
   "execution_count": 23,
   "metadata": {},
   "outputs": [
    {
     "name": "stdout",
     "output_type": "stream",
     "text": [
      "sum= 22\n"
     ]
    }
   ],
   "source": [
    "#Extension3\n",
    "a = np.array(list(range(1,6)))\n",
    "b = np.array(list(range(4,10)))\n",
    "c = np.union1d(a, b)\n",
    "items3to7 = c[3:7]\n",
    "\n",
    "print(\"sum=\", np.sum(items3to7))\n"
   ]
  },
  {
   "cell_type": "code",
   "execution_count": null,
   "metadata": {},
   "outputs": [],
   "source": []
  },
  {
   "cell_type": "code",
   "execution_count": 43,
   "metadata": {},
   "outputs": [
    {
     "name": "stdout",
     "output_type": "stream",
     "text": [
      "[1. 1. 1. 1. 1. 1. 1. 1. 1. 1. 1. 1. 1. 1. 1. 1. 1. 1. 1. 1.]\n"
     ]
    }
   ],
   "source": [
    "ones=np.ones(20)\n",
    "\n",
    "print(ones)"
   ]
  },
  {
   "cell_type": "code",
   "execution_count": 9,
   "metadata": {},
   "outputs": [
    {
     "name": "stdout",
     "output_type": "stream",
     "text": [
      "[[0.0759162  0.06093471 0.45610947 0.3258713 ]\n",
      " [0.50584022 0.28316093 0.79142329 0.40102646]\n",
      " [0.00190728 0.80291719 0.84537049 0.74019515]]\n"
     ]
    }
   ],
   "source": [
    "random=np.random.rand(3,4)\n",
    "\n",
    "print (random)"
   ]
  },
  {
   "cell_type": "code",
   "execution_count": 10,
   "metadata": {},
   "outputs": [
    {
     "name": "stdout",
     "output_type": "stream",
     "text": [
      "[[1. 0. 0. 0. 0. 0. 0. 0.]\n",
      " [0. 1. 0. 0. 0. 0. 0. 0.]\n",
      " [0. 0. 1. 0. 0. 0. 0. 0.]\n",
      " [0. 0. 0. 1. 0. 0. 0. 0.]\n",
      " [0. 0. 0. 0. 1. 0. 0. 0.]\n",
      " [0. 0. 0. 0. 0. 1. 0. 0.]\n",
      " [0. 0. 0. 0. 0. 0. 1. 0.]\n",
      " [0. 0. 0. 0. 0. 0. 0. 1.]]\n"
     ]
    }
   ],
   "source": [
    "eye=np.eye(8)\n",
    "\n",
    "print (eye)"
   ]
  },
  {
   "cell_type": "code",
   "execution_count": 14,
   "metadata": {},
   "outputs": [
    {
     "name": "stdout",
     "output_type": "stream",
     "text": [
      "[ 0 10 20 30 40]\n"
     ]
    }
   ],
   "source": [
    "even=np.arange(0, 50,10)\n",
    "\n",
    "print (even)"
   ]
  },
  {
   "cell_type": "code",
   "execution_count": 15,
   "metadata": {},
   "outputs": [
    {
     "name": "stdout",
     "output_type": "stream",
     "text": [
      "[[ 1  2  3  4]\n",
      " [ 5  6  7  8]\n",
      " [ 9 10 11 12]\n",
      " [13 14 15 16]]\n"
     ]
    }
   ],
   "source": [
    "array=np.array([1,2,3,4,5,6,7,8,9,10,11,12,13,14,15,16])\n",
    "newArray=array.reshape(4,4)\n",
    "print(newArray)"
   ]
  },
  {
   "cell_type": "code",
   "execution_count": 18,
   "metadata": {},
   "outputs": [
    {
     "name": "stdout",
     "output_type": "stream",
     "text": [
      "[0 1 2 3 4]\n",
      "Subtract: [-2 -1  0  1  2]\n",
      "Multiply: [0 2 4 6 8]\n",
      "Divide: [0.  0.5 1.  1.5 2. ]\n",
      "Power: [ 0  1  4  9 16]\n"
     ]
    }
   ],
   "source": [
    "array=np.arange(0,5)\n",
    "print(array)\n",
    "print(\"Subtract:\", array-2)\n",
    "print(\"Multiply:\", array*2)\n",
    "print(\"Divide:\", array/2)\n",
    "print(\"Power:\", array**2)"
   ]
  },
  {
   "cell_type": "code",
   "execution_count": 21,
   "metadata": {},
   "outputs": [
    {
     "name": "stdout",
     "output_type": "stream",
     "text": [
      "[[ 84  90  96]\n",
      " [201 216 231]\n",
      " [318 342 366]]\n"
     ]
    }
   ],
   "source": [
    "a=np.arange(1,10).reshape(3,3)\n",
    "b=np.arange(10,19).reshape(3,3)\n",
    "c=np.dot(a,b)\n",
    "print(c)"
   ]
  },
  {
   "cell_type": "code",
   "execution_count": 22,
   "metadata": {},
   "outputs": [
    {
     "name": "stdout",
     "output_type": "stream",
     "text": [
      "1944\n"
     ]
    }
   ],
   "source": [
    "a=np.arange(1,10).reshape(3,3)\n",
    "b=np.arange(10,19).reshape(3,3)\n",
    "c=np.dot(a,b)\n",
    "sum=np.sum(c)\n",
    "print(sum)"
   ]
  }
 ],
 "metadata": {
  "interpreter": {
   "hash": "511e55002720f220089970bd100a06c7142c726d80b36b200f48bd2ae9a9bd2f"
  },
  "kernelspec": {
   "display_name": "Python 3.10.2 64-bit",
   "language": "python",
   "name": "python3"
  },
  "language_info": {
   "codemirror_mode": {
    "name": "ipython",
    "version": 3
   },
   "file_extension": ".py",
   "mimetype": "text/x-python",
   "name": "python",
   "nbconvert_exporter": "python",
   "pygments_lexer": "ipython3",
   "version": "3.10.2"
  },
  "orig_nbformat": 4
 },
 "nbformat": 4,
 "nbformat_minor": 2
}
