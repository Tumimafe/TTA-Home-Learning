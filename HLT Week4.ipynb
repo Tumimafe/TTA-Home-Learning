{
 "cells": [
  {
   "cell_type": "code",
   "execution_count": 22,
   "metadata": {},
   "outputs": [],
   "source": [
    "#Task 1\n",
    "\n",
    "Numbers = open(\"Numbers.txt\", \"a\")\n",
    "\n",
    "Numbers.write(\"3, 45, 83, 21\")\n",
    "\n",
    "Numbers.close()\n",
    "\n",
    "output_file.close()"
   ]
  },
  {
   "cell_type": "code",
   "execution_count": 43,
   "metadata": {},
   "outputs": [],
   "source": [
    "#Task 2\n",
    "\n",
    "def mark_grade():\n",
    "    mark_input = int(input(\"What is your % mark?\"))\n",
    "    if mark_input <100 and mark_input >=90:\n",
    "       scores = (\"A+\")\n",
    "    elif mark_input <89 and mark_input>=80:\n",
    "        scores = (\"A\")\n",
    "    elif mark_input <79 and mark_input>=70:\n",
    "        scores = (\"B+\")\n",
    "    elif mark_input<69 and mark_input>=60:\n",
    "        scores = (\"B\")\n",
    "    elif mark_input <59 and mark_input>=50:\n",
    "        scores = (\"C\")\n",
    "    elif mark_input <49 and mark_input>=40:\n",
    "        scores = (\"C-\")\n",
    "    elif mark_input <39 and mark_input>=30:\n",
    "        scores = (\"D\")\n",
    "    elif mark_input <29 and mark_input>=0:\n",
    "        scores = (\"F\")\n",
    "    else:\n",
    "        scores = \"Error\"\n",
    "        print(\"You need to enter an appropraite value\")\n",
    "    print(\"Your grade is:\", scores)\n",
    "    \n",
    "    return mark_input\n",
    "        "
   ]
  },
  {
   "cell_type": "code",
   "execution_count": 45,
   "metadata": {},
   "outputs": [
    {
     "name": "stdout",
     "output_type": "stream",
     "text": [
      "Your grade is: C\n"
     ]
    }
   ],
   "source": [
    "mark = mark_grade()"
   ]
  },
  {
   "cell_type": "code",
   "execution_count": 46,
   "metadata": {},
   "outputs": [
    {
     "name": "stdout",
     "output_type": "stream",
     "text": [
      "You are below target\n"
     ]
    }
   ],
   "source": [
    "#Extension task 2\n",
    "\n",
    "target = int(input(\"Enter your target grade\"))\n",
    "\n",
    "if mark > target:\n",
    "    print(\"You exceeded your target\")\n",
    "elif mark == target:\n",
    "    print(\"You are on target\")\n",
    "else:\n",
    "    print(\"You are below target\")"
   ]
  },
  {
   "cell_type": "code",
   "execution_count": 11,
   "metadata": {},
   "outputs": [
    {
     "name": "stdout",
     "output_type": "stream",
     "text": [
      "[1 2 3 4 5 6 7 8 9]\n"
     ]
    }
   ],
   "source": [
    "#1\n",
    "import numpy as np\n",
    "array = np.array([1, 2, 3, 4, 5, 6, 7, 8, 9])\n",
    "\n",
    "print(array) "
   ]
  },
  {
   "cell_type": "code",
   "execution_count": 12,
   "metadata": {},
   "outputs": [
    {
     "name": "stdout",
     "output_type": "stream",
     "text": [
      "[[ True  True  True]\n",
      " [ True  True  True]\n",
      " [ True  True  True]]\n"
     ]
    }
   ],
   "source": [
    "#2\n",
    "boo = np.ones((3,3), dtype=bool)\n",
    "print(boo)"
   ]
  },
  {
   "cell_type": "code",
   "execution_count": 14,
   "metadata": {},
   "outputs": [
    {
     "name": "stdout",
     "output_type": "stream",
     "text": [
      "(array([1, 3, 5, 7, 9], dtype=int64),)\n"
     ]
    }
   ],
   "source": [
    "#3\n",
    "a = np.array([1,2,3,4,5,6,7,8,9,10])\n",
    "d = np.where(a%2 == 0)\n",
    "print(d)\n"
   ]
  },
  {
   "cell_type": "code",
   "execution_count": 4,
   "metadata": {},
   "outputs": [],
   "source": [
    "\n",
    "my_2d_list = [[1,2,3,4,],\n",
    "              [5,6,7,8],\n",
    "              [9, 10,11]\n",
    "              ]\n",
    "\n",
    "my_text = (\"ThisIsCoventry\")"
   ]
  },
  {
   "cell_type": "code",
   "execution_count": 5,
   "metadata": {},
   "outputs": [
    {
     "name": "stdout",
     "output_type": "stream",
     "text": [
      "[[1, 2, 3, 4], [5, 6, 7, 8], [9, 10, 11]]\n"
     ]
    }
   ],
   "source": [
    "print (my_2d_list)"
   ]
  },
  {
   "cell_type": "code",
   "execution_count": 51,
   "metadata": {},
   "outputs": [
    {
     "name": "stdout",
     "output_type": "stream",
     "text": [
      "[[1, 2, 3, 4], [5, 6, 7, 8], [9, 10, 11, 12]]\n"
     ]
    }
   ],
   "source": [
    "print(my_2d_list)"
   ]
  },
  {
   "cell_type": "code",
   "execution_count": 52,
   "metadata": {},
   "outputs": [
    {
     "name": "stdout",
     "output_type": "stream",
     "text": [
      "i\n"
     ]
    }
   ],
   "source": [
    "print(my_text[2])"
   ]
  },
  {
   "cell_type": "code",
   "execution_count": 53,
   "metadata": {},
   "outputs": [
    {
     "name": "stdout",
     "output_type": "stream",
     "text": [
      "14\n"
     ]
    }
   ],
   "source": [
    "print(len(my_text))"
   ]
  },
  {
   "cell_type": "code",
   "execution_count": 54,
   "metadata": {},
   "outputs": [
    {
     "name": "stdout",
     "output_type": "stream",
     "text": [
      "The character at value: 0 is: T\n",
      "The character at value: 1 is: h\n",
      "The character at value: 2 is: i\n",
      "The character at value: 3 is: s\n",
      "The character at value: 4 is: I\n",
      "The character at value: 5 is: s\n",
      "The character at value: 6 is: C\n",
      "The character at value: 7 is: o\n",
      "The character at value: 8 is: v\n",
      "The character at value: 9 is: e\n",
      "The character at value: 10 is: n\n",
      "The character at value: 11 is: t\n",
      "The character at value: 12 is: r\n",
      "The character at value: 13 is: y\n"
     ]
    }
   ],
   "source": [
    "for each_char in range(len(my_text)):\n",
    "    print(\"The character at value:\", each_char, \"is:\", my_text[each_char])"
   ]
  },
  {
   "cell_type": "code",
   "execution_count": 1,
   "metadata": {},
   "outputs": [],
   "source": [
    "my_file = open(\"my_new_text_file.txt\", \"w\")"
   ]
  },
  {
   "cell_type": "code",
   "execution_count": 23,
   "metadata": {},
   "outputs": [],
   "source": [
    "my_file = open(\"my_new_text_file.txt\", \"w\")\n",
    "for i in range(10):\n",
    "    my_file.write(str(i))\n",
    "    my_file.write(\"\\n\")\n",
    "my_file.close()"
   ]
  },
  {
   "cell_type": "code",
   "execution_count": 3,
   "metadata": {},
   "outputs": [
    {
     "name": "stdout",
     "output_type": "stream",
     "text": [
      "0,1,2,3,4,5,6,7,8,9,\n"
     ]
    }
   ],
   "source": [
    "with open (\"my_new_text_file.txt\", \"r\") as my_file:\n",
    "    data = my_file.read().replace('\\n', ',')\n",
    "\n",
    "my_file.close()\n",
    "\n",
    "print(data)"
   ]
  },
  {
   "cell_type": "code",
   "execution_count": 1,
   "metadata": {},
   "outputs": [
    {
     "ename": "NameError",
     "evalue": "name 'my_file' is not defined",
     "output_type": "error",
     "traceback": [
      "\u001b[1;31m---------------------------------------------------------------------------\u001b[0m",
      "\u001b[1;31mNameError\u001b[0m                                 Traceback (most recent call last)",
      "\u001b[1;32mc:\\Users\\Tumi Mafe\\Desktop\\Data Academy\\HLT\\HLT Week4.ipynb Cell 14'\u001b[0m in \u001b[0;36m<cell line: 8>\u001b[1;34m()\u001b[0m\n\u001b[0;32m      <a href='vscode-notebook-cell:/c%3A/Users/Tumi%20Mafe/Desktop/Data%20Academy/HLT/HLT%20Week4.ipynb#ch0000013?line=4'>5</a>\u001b[0m \u001b[39mfor\u001b[39;00m month \u001b[39min\u001b[39;00m months:\n\u001b[0;32m      <a href='vscode-notebook-cell:/c%3A/Users/Tumi%20Mafe/Desktop/Data%20Academy/HLT/HLT%20Week4.ipynb#ch0000013?line=5'>6</a>\u001b[0m     output_file\u001b[39m.\u001b[39mwrite(month)\n\u001b[1;32m----> <a href='vscode-notebook-cell:/c%3A/Users/Tumi%20Mafe/Desktop/Data%20Academy/HLT/HLT%20Week4.ipynb#ch0000013?line=7'>8</a>\u001b[0m my_file\u001b[39m.\u001b[39mclose()\n",
      "\u001b[1;31mNameError\u001b[0m: name 'my_file' is not defined"
     ]
    }
   ],
   "source": [
    "months = ['Jan, Feb, March, April']\n",
    "\n",
    "output_file = open(\"months.txt\", \"a\")\n",
    "\n",
    "for month in months:\n",
    "    output_file.write(month)\n",
    "\n",
    "my_file.close()"
   ]
  }
 ],
 "metadata": {
  "interpreter": {
   "hash": "c99bf5ae2093858e766e021a2c68070a63df788792899fa6fb6e56fa9c76914b"
  },
  "kernelspec": {
   "display_name": "Python 3.10.2 64-bit",
   "language": "python",
   "name": "python3"
  },
  "language_info": {
   "codemirror_mode": {
    "name": "ipython",
    "version": 3
   },
   "file_extension": ".py",
   "mimetype": "text/x-python",
   "name": "python",
   "nbconvert_exporter": "python",
   "pygments_lexer": "ipython3",
   "version": "3.10.2"
  },
  "orig_nbformat": 4
 },
 "nbformat": 4,
 "nbformat_minor": 2
}
